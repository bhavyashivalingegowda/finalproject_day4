{
  "nbformat": 4,
  "nbformat_minor": 0,
  "metadata": {
    "colab": {
      "name": "bhavi.ipynb",
      "provenance": [],
      "authorship_tag": "ABX9TyO+W4jcK786iMvc0G7MkOCh",
      "include_colab_link": true
    },
    "kernelspec": {
      "name": "python3",
      "display_name": "Python 3"
    },
    "language_info": {
      "name": "python"
    }
  },
  "cells": [
    {
      "cell_type": "markdown",
      "metadata": {
        "id": "view-in-github",
        "colab_type": "text"
      },
      "source": [
        "<a href=\"https://colab.research.google.com/github/bhavyashivalingegowda/finalproject_day4/blob/main/bhavi.ipynb\" target=\"_parent\"><img src=\"https://colab.research.google.com/assets/colab-badge.svg\" alt=\"Open In Colab\"/></a>"
      ]
    },
    {
      "cell_type": "code",
      "metadata": {
        "colab": {
          "base_uri": "https://localhost:8080/"
        },
        "id": "PdtcVqESkZyZ",
        "outputId": "02b1eec2-f456-4f6b-ef90-670d78fb5831"
      },
      "source": [
        "# Python Zero To Hero Day4\n",
        "# Assignment and Project \n",
        "# Temperature Converter\n",
        "# Celsius To Farenheit\n",
        "x = int(input('Input- \\n°C -> '))\n",
        "i = (x * 9/5) + 32\n",
        "print('Output- \\n°F -> ',end='')\n",
        "print(int(i))"
      ],
      "execution_count": 1,
      "outputs": [
        {
          "output_type": "stream",
          "text": [
            "Input- \n",
            "°C -> 34\n",
            "Output- \n",
            "°F -> 93\n"
          ],
          "name": "stdout"
        }
      ]
    }
  ]
}